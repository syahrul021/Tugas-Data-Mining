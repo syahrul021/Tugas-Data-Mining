{
 "cells": [
  {
   "cell_type": "code",
   "execution_count": 21,
   "metadata": {},
   "outputs": [],
   "source": [
    "#import library\n",
    "import numpy as np\n",
    "import matplotlib.pyplot as plt\n",
    "import pandas as pd"
   ]
  },
  {
   "cell_type": "code",
   "execution_count": 24,
   "metadata": {},
   "outputs": [],
   "source": [
    "dataset = pd.read_csv('Dataset.csv')\n",
    "x = dataset.iloc[:, :-1].values\n",
    "y = dataset.iloc[:, -1].values"
   ]
  },
  {
   "cell_type": "code",
   "execution_count": 25,
   "metadata": {},
   "outputs": [
    {
     "name": "stdout",
     "output_type": "stream",
     "text": [
      "[[' Banjarnegara ' 1023.0 nan]\n",
      " [' Banyumas' 1335.0 1970000.0]\n",
      " [' Batang' 788.0 2129117.0]\n",
      " [' Batang' 1804.0 1894000.0]\n",
      " [' Banyumas' 1008.0 2000000.0]\n",
      " [' Banjarnegara' 1902.0 1866722.0]\n",
      " [' Banyumas' 2124.0 2228904.0]\n",
      " [' Batang' nan 2511526.0]\n",
      " [' Banjarnegara' 2013.0 1890000.0]]\n"
     ]
    }
   ],
   "source": [
    "print(x)"
   ]
  },
  {
   "cell_type": "code",
   "execution_count": 26,
   "metadata": {},
   "outputs": [
    {
     "name": "stdout",
     "output_type": "stream",
     "text": [
      "['Yes' 'Yes' 'No' 'Yes' 'No' 'Yes' 'No' 'No' 'Yes']\n"
     ]
    }
   ],
   "source": [
    "print(y)"
   ]
  },
  {
   "cell_type": "code",
   "execution_count": 27,
   "metadata": {},
   "outputs": [],
   "source": [
    "from sklearn.impute import SimpleImputer\n",
    "imputer = SimpleImputer(missing_values=np.nan, strategy='mean')\n",
    "imputer.fit(x[:, 1:3])\n",
    "x[:, 1:3] = imputer.transform(x[:, 1:3])"
   ]
  },
  {
   "cell_type": "code",
   "execution_count": 28,
   "metadata": {},
   "outputs": [
    {
     "name": "stdout",
     "output_type": "stream",
     "text": [
      "[[' Banjarnegara ' 1023.0 2061283.625]\n",
      " [' Banyumas' 1335.0 1970000.0]\n",
      " [' Batang' 788.0 2129117.0]\n",
      " [' Batang' 1804.0 1894000.0]\n",
      " [' Banyumas' 1008.0 2000000.0]\n",
      " [' Banjarnegara' 1902.0 1866722.0]\n",
      " [' Banyumas' 2124.0 2228904.0]\n",
      " [' Batang' 1499.625 2511526.0]\n",
      " [' Banjarnegara' 2013.0 1890000.0]]\n"
     ]
    }
   ],
   "source": [
    "print(x)"
   ]
  },
  {
   "cell_type": "code",
   "execution_count": 29,
   "metadata": {},
   "outputs": [],
   "source": [
    "from sklearn.compose import ColumnTransformer\n",
    "from sklearn.preprocessing import OneHotEncoder\n",
    "ct = ColumnTransformer(transformers=[('encoder',OneHotEncoder(), [0])], remainder='passthrough')\n",
    "x = np.array(ct.fit_transform(x))"
   ]
  },
  {
   "cell_type": "code",
   "execution_count": 30,
   "metadata": {},
   "outputs": [
    {
     "name": "stdout",
     "output_type": "stream",
     "text": [
      "[[0.0 1.0 0.0 0.0 1023.0 2061283.625]\n",
      " [0.0 0.0 1.0 0.0 1335.0 1970000.0]\n",
      " [0.0 0.0 0.0 1.0 788.0 2129117.0]\n",
      " [0.0 0.0 0.0 1.0 1804.0 1894000.0]\n",
      " [0.0 0.0 1.0 0.0 1008.0 2000000.0]\n",
      " [1.0 0.0 0.0 0.0 1902.0 1866722.0]\n",
      " [0.0 0.0 1.0 0.0 2124.0 2228904.0]\n",
      " [0.0 0.0 0.0 1.0 1499.625 2511526.0]\n",
      " [1.0 0.0 0.0 0.0 2013.0 1890000.0]]\n"
     ]
    }
   ],
   "source": [
    "print(x)"
   ]
  },
  {
   "cell_type": "code",
   "execution_count": 31,
   "metadata": {},
   "outputs": [],
   "source": [
    "from sklearn.preprocessing import LabelEncoder\n",
    "le = LabelEncoder()\n",
    "y = le.fit_transform(y)"
   ]
  },
  {
   "cell_type": "code",
   "execution_count": 32,
   "metadata": {},
   "outputs": [
    {
     "name": "stdout",
     "output_type": "stream",
     "text": [
      "[1 1 0 1 0 1 0 0 1]\n"
     ]
    }
   ],
   "source": [
    "print(y)"
   ]
  },
  {
   "cell_type": "code",
   "execution_count": 33,
   "metadata": {},
   "outputs": [],
   "source": [
    "from sklearn.model_selection import train_test_split\n",
    "x_train, x_test, y_train, y_test = train_test_split(x, y, test_size=0.2, random_state = 1)"
   ]
  },
  {
   "cell_type": "code",
   "execution_count": 34,
   "metadata": {},
   "outputs": [
    {
     "name": "stdout",
     "output_type": "stream",
     "text": [
      "[[0.0 0.0 1.0 0.0 2124.0 2228904.0]\n",
      " [0.0 0.0 0.0 1.0 1499.625 2511526.0]\n",
      " [0.0 0.0 1.0 0.0 1335.0 1970000.0]\n",
      " [0.0 1.0 0.0 0.0 1023.0 2061283.625]\n",
      " [0.0 0.0 1.0 0.0 1008.0 2000000.0]\n",
      " [0.0 0.0 0.0 1.0 1804.0 1894000.0]\n",
      " [1.0 0.0 0.0 0.0 1902.0 1866722.0]]\n"
     ]
    }
   ],
   "source": [
    "print(x_train)"
   ]
  },
  {
   "cell_type": "code",
   "execution_count": 35,
   "metadata": {},
   "outputs": [
    {
     "name": "stdout",
     "output_type": "stream",
     "text": [
      "[[1.0 0.0 0.0 0.0 2013.0 1890000.0]\n",
      " [0.0 0.0 0.0 1.0 788.0 2129117.0]]\n"
     ]
    }
   ],
   "source": [
    "print(x_test)"
   ]
  },
  {
   "cell_type": "code",
   "execution_count": 36,
   "metadata": {},
   "outputs": [
    {
     "name": "stdout",
     "output_type": "stream",
     "text": [
      "[0 0 1 1 0 1 1]\n"
     ]
    }
   ],
   "source": [
    "print(y_train)"
   ]
  },
  {
   "cell_type": "code",
   "execution_count": 37,
   "metadata": {},
   "outputs": [
    {
     "name": "stdout",
     "output_type": "stream",
     "text": [
      "[1 0]\n"
     ]
    }
   ],
   "source": [
    "print(y_test)"
   ]
  },
  {
   "cell_type": "code",
   "execution_count": 38,
   "metadata": {},
   "outputs": [],
   "source": [
    "from sklearn.preprocessing import StandardScaler\n",
    "sc = StandardScaler()\n",
    "x_train[:, 3:] = sc.fit_transform(x_train[:, 3:])\n",
    "x_test[:, 3:] = sc.transform(x_test[:, 3:])"
   ]
  },
  {
   "cell_type": "code",
   "execution_count": 39,
   "metadata": {},
   "outputs": [
    {
     "name": "stdout",
     "output_type": "stream",
     "text": [
      "[[0.0 0.0 1.0 -0.6324555320336758 1.4804194075482409 0.7295780057884463]\n",
      " [0.0 0.0 0.0 1.5811388300841895 -0.07034198688910748 2.0786516133684563]\n",
      " [0.0 0.0 1.0 -0.6324555320336758 -0.47922141761463055\n",
      "  -0.5062796178109017]\n",
      " [0.0 1.0 0.0 -0.6324555320336758 -1.254136420720861 -0.07054450415474328]\n",
      " [0.0 0.0 1.0 -0.6324555320336758 -1.2913919497163528 -0.3630770071599251]\n",
      " [0.0 0.0 0.0 1.5811388300841895 0.685634788977748 -0.8690595647933756]\n",
      " [1.0 0.0 0.0 -0.6324555320336758 0.9290375784149614 -0.9992689252379536]]\n"
     ]
    }
   ],
   "source": [
    "print(x_train)"
   ]
  },
  {
   "cell_type": "code",
   "execution_count": 40,
   "metadata": {},
   "outputs": [
    {
     "name": "stdout",
     "output_type": "stream",
     "text": [
      "[[1.0 0.0 0.0 -0.6324555320336758 1.2047284929816011 -0.8881532462135059]\n",
      " [0.0 0.0 0.0 1.5811388300841895 -1.8378063749835667 0.25325270882081297]]\n"
     ]
    }
   ],
   "source": [
    "print(x_test)"
   ]
  },
  {
   "cell_type": "code",
   "execution_count": null,
   "metadata": {},
   "outputs": [],
   "source": []
  }
 ],
 "metadata": {
  "kernelspec": {
   "display_name": "Python 3",
   "language": "python",
   "name": "python3"
  },
  "language_info": {
   "codemirror_mode": {
    "name": "ipython",
    "version": 3
   },
   "file_extension": ".py",
   "mimetype": "text/x-python",
   "name": "python",
   "nbconvert_exporter": "python",
   "pygments_lexer": "ipython3",
   "version": "3.8.5"
  }
 },
 "nbformat": 4,
 "nbformat_minor": 4
}
